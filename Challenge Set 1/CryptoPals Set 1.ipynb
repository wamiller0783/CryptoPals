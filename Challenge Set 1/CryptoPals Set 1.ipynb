{
 "cells": [
  {
   "cell_type": "code",
   "execution_count": 31,
   "metadata": {},
   "outputs": [],
   "source": [
    "import sys\n",
    "import codecs\n",
    "import numpy as np"
   ]
  },
  {
   "cell_type": "markdown",
   "metadata": {},
   "source": [
    "### Challege 1\n",
    "#### Convert Hex to Base64\n",
    "Test string: 49276d206b696c6c696e6720796f757220627261696e206c696b65206120706f69736f6e6f7573206d757368726f6f6d\n",
    "\n",
    "Ouput: SSdtIGtpbGxpbmcgeW91ciBicmFpbiBsaWtlIGEgcG9pc29ub3VzIG11c2hyb29t"
   ]
  },
  {
   "cell_type": "code",
   "execution_count": 15,
   "metadata": {},
   "outputs": [],
   "source": [
    "def hex_to_b64(bytes_Hex):\n",
    "    hex_Decoded = codecs.decode(bytes_Hex, 'hex')\n",
    "    b64_Encoded = codecs.encode(hex_Decoded, 'base64')\n",
    "    return b64_Encoded"
   ]
  },
  {
   "cell_type": "code",
   "execution_count": 16,
   "metadata": {},
   "outputs": [
    {
     "name": "stdout",
     "output_type": "stream",
     "text": [
      "b'SSdtIGtpbGxpbmcgeW91ciBicmFpbiBsaWtlIGEgcG9pc29ub3VzIG11c2hyb29t\\n'\n"
     ]
    }
   ],
   "source": [
    "bstr_test = b'49276d206b696c6c696e6720796f757220627261696e206c696b65206120706f69736f6e6f7573206d757368726f6f6d'\n",
    "print(hex_to_b64(bstr_test))"
   ]
  },
  {
   "cell_type": "markdown",
   "metadata": {},
   "source": [
    "### Challege 2\n",
    "#### Fixed XOR\n",
    "Write a function that takes two equal-length buffers and produces their XOR combination.\n",
    "\n",
    "If your function works properly, then when you feed it the string:\n",
    "\n",
    "1c0111001f010100061a024b53535009181c\n",
    "... after hex decoding, and when XOR'd against:\n",
    "\n",
    "686974207468652062756c6c277320657965\n",
    "... should produce:\n",
    "\n",
    "746865206b696420646f6e277420706c6179\n"
   ]
  },
  {
   "cell_type": "code",
   "execution_count": 17,
   "metadata": {},
   "outputs": [],
   "source": [
    "def fixed_xor(byte_str1, byte_str2):\n",
    "    hex_str1 = int(str(byte_str1.decode('utf-8')), base=16)\n",
    "    hex_str2 = int(str(byte_str2.decode('utf-8')), base=16)\n",
    "    val_XOR = hex(hex_str1 ^ hex_str2).encode()[2:]\n",
    "    return val_XOR"
   ]
  },
  {
   "cell_type": "code",
   "execution_count": 18,
   "metadata": {},
   "outputs": [
    {
     "name": "stdout",
     "output_type": "stream",
     "text": [
      "b'746865206b696420646f6e277420706c6179'\n"
     ]
    }
   ],
   "source": [
    "byte_teststr1 = b'1c0111001f010100061a024b53535009181c'\n",
    "byte_teststr2 = b'686974207468652062756c6c277320657965'\n",
    "print(fixed_xor(byte_teststr1, byte_teststr2))"
   ]
  },
  {
   "cell_type": "markdown",
   "metadata": {},
   "source": [
    "### Challege 3\n",
    "#### Single-byte XOR Cypher\n",
    "\n",
    "The hex encoded string:\n",
    "\n",
    "1b37373331363f78151b7f2b783431333d78397828372d363c78373e783a393b3736\n",
    "... has been XOR'd against a single character. Find the key, decrypt the message.\n",
    "\n",
    "You can do this by hand. But don't: write code to do it for you."
   ]
  },
  {
   "cell_type": "code",
   "execution_count": 21,
   "metadata": {},
   "outputs": [],
   "source": [
    "def get_str_letter_freq(str_Test, dict_EnglishLetterFreq):\n",
    "    \"\"\"\n",
    "    Input: string of letters, a dictionary containing the letters to be tested as keys\n",
    "    Output: a dictionary of the frequency of letters in the string\n",
    "    Notes: Called by EnglishScore\n",
    "    \"\"\"\n",
    "    list_EnglishLetters = [i for i, k in dict_EnglishLetterFreq.items()]\n",
    "    dict_StringLetterCount = dict.fromkeys(list_EnglishLetters , 0)\n",
    "    str_Test = str_Test.lower()\n",
    "    val_NotLetterPenalty = 0\n",
    "    for c in str_Test:\n",
    "        if c in list_EnglishLetters:\n",
    "            dict_StringLetterCount[c] += 1\n",
    "        elif c == ' ':\n",
    "            val_NotLetterPenalty += 0 #no penalty for spaces\n",
    "        else:\n",
    "            val_NotLetterPenalty += 0.1 #adjustable penalty for non-English letter, non-space characters\n",
    "    dict_StringLetterFreq = {k: v / len(str_Test) for k, v in dict_StringLetterCount.items()}\n",
    "    return dict_StringLetterFreq, val_NotLetterPenalty\n",
    "\n",
    "def test_str_for_engish(str_Test):\n",
    "    dict_EnglishLetterFreq = {'a': 0.0817,'b': 0.0149,'c': 0.0278,'d': 0.0425,'e': 0.127,'f': 0.0223,'g': 0.0202,\n",
    "                              'h': 0.0609,'i': 0.0697,'j': 0.0015,'k': 0.0077,'l': 0.0403,'m': 0.0241,'n': 0.0675,\n",
    "                              'o': 0.0751,'p': 0.0193,'q': 0.001,'r': 0.0599,'s': 0.0633,'t': 0.0906,'u': 0.0276,\n",
    "                              'v': 0.0098,'w': 0.0236,'x': 0.0015, 'y': 0.0197,'z': 0.0007}\n",
    "    dict_TestLetterFreq, val_NotLetterPenalty = get_str_letter_freq(str_Test, dict_EnglishLetterFreq)\n",
    "    list_EnglishScore = [(a - b)**2 for (a,b) in zip(dict_TestLetterFreq.values(), dict_EnglishLetterFreq.values())]\n",
    "    total_EnglishScore = sum(list_EnglishScore) + val_NotLetterPenalty\n",
    "    return total_EnglishScore\n",
    "\n",
    "def score_english_strings(list_TestStrings):\n",
    "    dict_StringScores = dict.fromkeys(list_TestStrings, 0)\n",
    "    for s in list_TestStrings:\n",
    "        dict_StringScores[s] = test_str_for_engish(s)\n",
    "    string_MinScore = min(dict_StringScores, key=lambda key: dict_StringScores[key])\n",
    "    return string_MinScore, dict_StringScores[string_MinScore], dict_StringScores"
   ]
  },
  {
   "cell_type": "code",
   "execution_count": 58,
   "metadata": {},
   "outputs": [],
   "source": [
    "def single_byte_xor(str_Encoded, byte_Char):\n",
    "    list_Decoded = []\n",
    "    for c in str_Encoded:\n",
    "        val_XOR = c ^ byte_Char\n",
    "        list_Decoded.append(chr(val_XOR))\n",
    "    str_Decoded = ''.join(list_Decoded)\n",
    "    return str_Decoded\n",
    "\n",
    "\n",
    "def decode_single_byte_xor(str_HexEncode):\n",
    "    list_DecodedStrings = []\n",
    "    str_HexDecode = codecs.decode(str_HexEncode, 'hex')\n",
    "    for i in range(0, 256):\n",
    "        bytes_XORd = single_byte_xor(str_HexDecode, i)\n",
    "        if len(bytes_XORd) > 0:\n",
    "            list_DecodedStrings.append(bytes_XORd)\n",
    "    return list_DecodedStrings"
   ]
  },
  {
   "cell_type": "code",
   "execution_count": 59,
   "metadata": {},
   "outputs": [
    {
     "name": "stdout",
     "output_type": "stream",
     "text": [
      "Cooking MC's like a pound of bacon\n"
     ]
    }
   ],
   "source": [
    "str_SingleByteEncode = b'1b37373331363f78151b7f2b783431333d78397828372d363c78373e783a393b3736'\n",
    "list_DecodedStrings = decode_single_byte_xor(str_SingleByteEncode)\n",
    "str_BestEngScore, val_BestEngScore, dict_AllScores = score_english_strings(list_DecodedStrings)\n",
    "print(str_BestEngScore)"
   ]
  },
  {
   "cell_type": "code",
   "execution_count": 60,
   "metadata": {},
   "outputs": [],
   "source": [
    "#list_DecodedStrings"
   ]
  },
  {
   "cell_type": "markdown",
   "metadata": {},
   "source": [
    "### Challenge 4\n",
    "#### Detect single-character XOR\n",
    "One of the 60-character strings in this file has been encrypted by single-character XOR."
   ]
  },
  {
   "cell_type": "code",
   "execution_count": 61,
   "metadata": {},
   "outputs": [],
   "source": [
    "f = open('./ChallengeSet1_4.txt', 'rb')\n",
    "list_EncodedStrings = [l.strip() for l in f]"
   ]
  },
  {
   "cell_type": "code",
   "execution_count": 62,
   "metadata": {},
   "outputs": [],
   "source": [
    "list_AllDecodedStrings = []\n",
    "for s in list_EncodedStrings:\n",
    "    \n",
    "    list_DecodedElement = DecodeSingleByteXOR(s)\n",
    "    \n",
    "    if len(list_DecodedElement) > 0:\n",
    "        str_BestEngScore, val_BestEngScore, dict_AllScores = ScoreStringList(list_DecodedElement)\n",
    "        list_AllDecodedStrings.extend(list_DecodedElement)"
   ]
  },
  {
   "cell_type": "code",
   "execution_count": 63,
   "metadata": {},
   "outputs": [
    {
     "name": "stdout",
     "output_type": "stream",
     "text": [
      "Now that the party is jumping\n",
      "\n"
     ]
    }
   ],
   "source": [
    "str_BestEngScore, val_BestEngScore, dict_AllScores = ScoreStringList(list_AllDecodedStrings)\n",
    "print(str_BestEngScore)"
   ]
  },
  {
   "cell_type": "code",
   "execution_count": 13,
   "metadata": {},
   "outputs": [],
   "source": [
    "#[(k, dict_AllScores[k]) for k in sorted(dict_AllScores, key = dict_AllScores.get)]"
   ]
  },
  {
   "cell_type": "markdown",
   "metadata": {},
   "source": [
    "### Challenge 5\n",
    "#### Implement repeating-key XOR\n",
    "Here is the opening stanza of an important work of the English language:\n",
    "\n",
    ">Burning 'em, if you ain't quick and nimble  \n",
    "I go crazy when I hear a cymbal  \n",
    "\n",
    "Encrypt it, under the key \"ICE\", using repeating-key XOR.  \n",
    "\n",
    "In repeating-key XOR, you'll sequentially apply each byte of the key; the first byte of plaintext will be XOR'd against I, the next C, the next E, then I again for the 4th byte, and so on.\n",
    "\n",
    "It should come out to:\n",
    "\n",
    ">0b3637272a2b2e63622c2e69692a23693a2a3c6324202d623d63343c2a26226324272765272  \n",
    "a282b2f20430a652e2c652a3124333a653e2b2027630c692b20283165286326302e27282f\n",
    "\n",
    "Encrypt a bunch of stuff using your repeating-key XOR function. Encrypt your mail. Encrypt your password file. Your .sig file. Get a feel for it. I promise, we aren't wasting your time with this."
   ]
  },
  {
   "cell_type": "code",
   "execution_count": 131,
   "metadata": {},
   "outputs": [],
   "source": [
    "def encode_repeating_key_XOR(str_Encode, str_Key):\n",
    "    list_XORdChars = []\n",
    "    val_KeyLength = len(str_Key)\n",
    "    for i in range(0, len(str_Encode)):\n",
    "        val_XOR = str_Key[i % val_KeyLength] ^  str_Encode[i]\n",
    "        list_XORdChars.append(hex(val_XOR)[2:].zfill(2))\n",
    "    return ''.join(list_XORdChars)"
   ]
  },
  {
   "cell_type": "code",
   "execution_count": 133,
   "metadata": {},
   "outputs": [
    {
     "name": "stdout",
     "output_type": "stream",
     "text": [
      "0b3637272a2b2e63622c2e69692a23693a2a3c6324202d623d63343c2a26226324272765272a282b2f20690a652e2c652a3124333a653e2b2027630c692b20283165286326302e27282f\n"
     ]
    }
   ],
   "source": [
    "str_Encode =  b\"Burning 'em, if you ain't quick and nimble I go crazy when I hear a cymbal\"\n",
    "str_Key = b'ICE'\n",
    "\n",
    "print(encode_repeating_key_XOR(str_Encode, str_Key))"
   ]
  },
  {
   "cell_type": "markdown",
   "metadata": {},
   "source": [
    "### Challenge 6\n",
    "#### Break repeating-key XOR\n",
    "\n",
    "There's a file here. It's been base64'd after being encrypted with repeating-key XOR.\n",
    "\n",
    "Decrypt it.\n",
    "\n",
    "Here's how:\n",
    "\n",
    "Let KEYSIZE be the guessed length of the key; try values from 2 to (say) 40.\n",
    "Write a function to compute the edit distance/Hamming distance between two strings. The Hamming distance is just the number of differing bits. The distance between:\n",
    ">this is a test\n",
    "\n",
    "and\n",
    ">wokka wokka!!!\n",
    "\n",
    "is 37.  \n",
    "\n",
    "Make sure your code agrees before you proceed.  \n",
    "\n",
    "For each KEYSIZE, take the first KEYSIZE worth of bytes, and the second KEYSIZE worth of bytes, and find the edit distance between them. Normalize this result by dividing by KEYSIZE.  \n",
    "\n",
    "The KEYSIZE with the smallest normalized edit distance is probably the key. You could proceed perhaps with the smallest 2-3 KEYSIZE values. Or take 4 KEYSIZE blocks instead of 2 and average the distances.  \n",
    "\n",
    "Now that you probably know the KEYSIZE: break the ciphertext into blocks of KEYSIZE length.  \n",
    "\n",
    "Now transpose the blocks: make a block that is the first byte of every block, and a block that is the second byte of every block, and so on.  \n",
    "\n",
    "Solve each block as if it was single-character XOR. You already have code to do this.  \n",
    "\n",
    "For each block, the single-byte XOR key that produces the best looking histogram is the repeating-key XOR key byte for that block. Put them together and you have the key."
   ]
  },
  {
   "cell_type": "code",
   "execution_count": 103,
   "metadata": {},
   "outputs": [],
   "source": [
    "def str_to_bits(s):\n",
    "    bits_str = [bin(ord(c))[2:].zfill(8).encode() for c in s]\n",
    "    return bits_str\n",
    "\n",
    "def hamming_distance(str1, str2):\n",
    "    assert len(str1) == len(str2), 'String lengths are not equal'\n",
    "    list_bits1 = str_to_bits(str1)\n",
    "    list_bits2 = str_to_bits(str2)\n",
    "    total_diffbits = 0\n",
    "    for (bits1, bits2) in zip(list_bits1, list_bits2):\n",
    "        i = 0\n",
    "        n = 0\n",
    "        for c in bits1:\n",
    "            if c!= bits2[i]:\n",
    "                n += 1\n",
    "            i += 1\n",
    "        total_diffbits += n\n",
    "    return total_diffbits\n"
   ]
  },
  {
   "cell_type": "code",
   "execution_count": 105,
   "metadata": {},
   "outputs": [
    {
     "data": {
      "text/plain": [
       "37"
      ]
     },
     "execution_count": 105,
     "metadata": {},
     "output_type": "execute_result"
    }
   ],
   "source": [
    "str1 = 'this is a test'\n",
    "str2  = 'wokka wokka!!!'\n",
    "hamming_distance(str1, str2)"
   ]
  },
  {
   "cell_type": "code",
   "execution_count": 134,
   "metadata": {},
   "outputs": [],
   "source": [
    "f = open('./ChallengeSet1_6.txt', 'rb')\n",
    "list_EncodedStrings = [l.strip() for l in f]"
   ]
  },
  {
   "cell_type": "code",
   "execution_count": 135,
   "metadata": {},
   "outputs": [
    {
     "data": {
      "text/plain": [
       "[b'HUIfTQsPAh9PE048GmllH0kcDk4TAQsHThsBFkU2AB4BSWQgVB0dQzNTTmVS',\n",
       " b'BgBHVBwNRU0HBAxTEjwMHghJGgkRTxRMIRpHKwAFHUdZEQQJAGQmB1MANxYG',\n",
       " b'DBoXQR0BUlQwXwAgEwoFR08SSAhFTmU+Fgk4RQYFCBpGB08fWXh+amI2DB0P',\n",
       " b'QQ1IBlUaGwAdQnQEHgFJGgkRAlJ6f0kASDoAGhNJGk9FSA8dDVMEOgFSGQEL',\n",
       " b'QRMGAEwxX1NiFQYHCQdUCxdBFBZJeTM1CxsBBQ9GB08dTnhOSCdSBAcMRVhI',\n",
       " b'CEEATyBUCHQLHRlJAgAOFlwAUjBpZR9JAgJUAAELB04CEFMBJhAVTQIHAh9P',\n",
       " b'G054MGk2UgoBCVQGBwlTTgIQUwg7EAYFSQ8PEE87ADpfRyscSWQzT1QCEFMa',\n",
       " b'TwUWEXQMBk0PAg4DQ1JMPU4ALwtJDQhOFw0VVB1PDhxFXigLTRkBEgcKVVN4',\n",
       " b'Tk9iBgELR1MdDAAAFwoFHww6Ql5NLgFBIg4cSTRWQWI1Bk9HKn47CE8BGwFT',\n",
       " b'QjcEBx4MThUcDgYHKxpUKhdJGQZZVCFFVwcDBVMHMUV4LAcKQR0JUlk3TwAm',\n",
       " b'HQdJEwATARNFTg5JFwQ5C15NHQYEGk94dzBDADsdHE4UVBUaDE5JTwgHRTkA',\n",
       " b'Umc6AUETCgYAN1xGYlUKDxJTEUgsAA0ABwcXOwlSGQELQQcbE0c9GioWGgwc',\n",
       " b'AgcHSAtPTgsAABY9C1VNCAINGxgXRHgwaWUfSQcJABkRRU8ZAUkDDTUWF01j',\n",
       " b'OgkRTxVJKlZJJwFJHQYADUgRSAsWSR8KIgBSAAxOABoLUlQwW1RiGxpOCEtU',\n",
       " b'YiROCk8gUwY1C1IJCAACEU8QRSxORTBSHQYGTlQJC1lOBAAXRTpCUh0FDxhU',\n",
       " b'ZXhzLFtHJ1JbTkoNVDEAQU4bARZFOwsXTRAPRlQYE042WwAuGxoaAk5UHAoA',\n",
       " b'ZCYdVBZ0ChQLSQMYVAcXQTwaUy1SBQsTAAAAAAAMCggHRSQJExRJGgkGAAdH',\n",
       " b'MBoqER1JJ0dDFQZFRhsBAlMMIEUHHUkPDxBPH0EzXwArBkkdCFUaDEVHAQAN',\n",
       " b'U29lSEBAWk44G09fDXhxTi0RAk4ITlQbCk0LTx4cCjBFeCsGHEETAB1EeFZV',\n",
       " b'IRlFTi4AGAEORU4CEFMXPBwfCBpOAAAdHUMxVVUxUmM9ElARGgZBAg4PAQQz',\n",
       " b'DB4EGhoIFwoKUDFbTCsWBg0OTwEbRSonSARTBDpFFwsPCwIATxNOPBpUKhMd',\n",
       " b'Th5PAUgGQQBPCxYRdG87TQoPD1QbE0s9GkFiFAUXR0cdGgkADwENUwg1DhdN',\n",
       " b'AQsTVBgXVHYaKkg7TgNHTB0DAAA9DgQACjpFX0BJPQAZHB1OeE5PYjYMAg5M',\n",
       " b'FQBFKjoHDAEAcxZSAwZOBREBC0k2HQxiKwYbR0MVBkVUHBZJBwp0DRMDDk5r',\n",
       " b'NhoGACFVVWUeBU4MRREYRVQcFgAdQnQRHU0OCxVUAgsAK05ZLhdJZChWERpF',\n",
       " b'QQALSRwTMRdeTRkcABcbG0M9Gk0jGQwdR1ARGgNFDRtJeSchEVIDBhpBHQlS',\n",
       " b'WTdPBzAXSQ9HTBsJA0UcQUl5bw0KB0oFAkETCgYANlVXKhcbC0sAGgdFUAIO',\n",
       " b'ChZJdAsdTR0HDBFDUk43GkcrAAUdRyonBwpOTkJEUyo8RR8USSkOEENSSDdX',\n",
       " b'RSAdDRdLAA0HEAAeHQYRBDYJC00MDxVUZSFQOV1IJwYdB0dXHRwNAA9PGgMK',\n",
       " b'OwtTTSoBDBFPHU54W04mUhoPHgAdHEQAZGU/OjV6RSQMBwcNGA5SaTtfADsX',\n",
       " b'GUJHWREYSQAnSARTBjsIGwNOTgkVHRYANFNLJ1IIThVIHQYKAGQmBwcKLAwR',\n",
       " b'DB0HDxNPAU94Q083UhoaBkcTDRcAAgYCFkU1RQUEBwFBfjwdAChPTikBSR0T',\n",
       " b'TwRIEVIXBgcURTULFk0OBxMYTwFUN0oAIQAQBwkHVGIzQQAGBR8EdCwRCEkH',\n",
       " b'ElQcF0w0U05lUggAAwANBxAAHgoGAwkxRRMfDE4DARYbTn8aKmUxCBsURVQf',\n",
       " b'DVlOGwEWRTIXFwwCHUEVHRcAMlVDKRsHSUdMHQMAAC0dCAkcdCIeGAxOazkA',\n",
       " b'BEk2HQAjHA1OAFIbBxNJAEhJBxctDBwKSRoOVBwbTj8aQS4dBwlHKjUECQAa',\n",
       " b'BxscEDMNUhkBC0ETBxdULFUAJQAGARFJGk9FVAYGGlMNMRcXTRoBDxNPeG43',\n",
       " b'TQA7HRxJFUVUCQhBFAoNUwctRQYFDE43PT9SUDdJUydcSWRtcwANFVAHAU5T',\n",
       " b'FjtFGgwbCkEYBhlFeFsABRcbAwZOVCYEWgdPYyARNRcGAQwKQRYWUlQwXwAg',\n",
       " b'ExoLFAAcARFUBwFOUwImCgcDDU5rIAcXUj0dU2IcBk4TUh0YFUkASEkcC3QI',\n",
       " b'GwMMQkE9SB8AMk9TNlIOCxNUHQZCAAoAHh1FXjYCDBsFABkOBkk7FgALVQRO',\n",
       " b'D0EaDwxOSU8dGgI8EVIBAAUEVA5SRjlUQTYbCk5teRsdRVQcDhkDADBFHwhJ',\n",
       " b'AQ8XClJBNl4AC1IdBghVEwARABoHCAdFXjwdGEkDCBMHBgAwW1YnUgAaRyon',\n",
       " b'B0VTGgoZUwE7EhxNCAAFVAMXTjwaTSdSEAESUlQNBFJOZU5LXHQMHE0EF0EA',\n",
       " b'Bh9FeRp5LQdFTkAZREgMU04CEFMcMQQAQ0lkay0ABwcqXwA1FwgFAk4dBkIA',\n",
       " b'CA4aB0l0PD1MSQ8PEE87ADtbTmIGDAILAB0cRSo3ABwBRTYKFhROHUETCgZU',\n",
       " b'MVQHYhoGGksABwdJAB0ASTpFNwQcTRoDBBgDUkksGioRHUkKCE5THEVCC08E',\n",
       " b'EgF0BBwJSQoOGkgGADpfADETDU5tBzcJEFMLTx0bAHQJCx8ADRJUDRdMN1RH',\n",
       " b'YgYGTi5jMURFeQEaSRAEOkURDAUCQRkKUmQ5XgBIKwYbQFIRSBVJGgwBGgtz',\n",
       " b'RRNNDwcVWE8BT3hJVCcCSQwGQx9IBE4KTwwdASEXF01jIgQATwZIPRpXKwYK',\n",
       " b'BkdEGwsRTxxDSToGMUlSCQZOFRwKUkQ5VEMnUh0BR0MBGgAAZDwGUwY7CBdN',\n",
       " b'HB5BFwMdUz0aQSwWSQoITlMcRUILTxoCEDUXF01jNw4BTwVBNlRBYhAIGhNM',\n",
       " b'EUgIRU5CRFMkOhwGBAQLTVQOHFkvUkUwF0lkbXkbHUVUBgAcFA0gRQYFCBpB',\n",
       " b'PU8FQSsaVycTAkJHYhsRSQAXABxUFzFFFggICkEDHR1OPxoqER1JDQhNEUgK',\n",
       " b'TkJPDAUAJhwQAg0XQRUBFgArU04lUh0GDlNUGwpOCU9jeTY1HFJARE4xGA4L',\n",
       " b'ACxSQTZSDxsJSw1ICFUdBgpTNjUcXk0OAUEDBxtUPRpCLQtFTgBPVB8NSRoK',\n",
       " b'SREKLUUVAklkERgOCwAsUkE2Ug8bCUsNSAhVHQYKUyI7RQUFABoEVA0dWXQa',\n",
       " b'Ry1SHgYOVBFIB08XQ0kUCnRvPgwQTgUbGBwAOVREYhAGAQBJEUgETgpPGR8E',\n",
       " b'LUUGBQgaQRIaHEshGk03AQANR1QdBAkAFwAcUwE9AFxNY2QxGA4LACxSQTZS',\n",
       " b'DxsJSw1ICFUdBgpTJjsIF00GAE1ULB1NPRpPLF5JAgJUVAUAAAYKCAFFXjUe',\n",
       " b'DBBOFRwOBgA+T04pC0kDElMdC0VXBgYdFkU2CgtNEAEUVBwTWXhTVG5SGg8e',\n",
       " b'AB0cRSo+AwgKRSANExlJCBQaBAsANU9TKxFJL0dMHRwRTAtPBRwQMAAATQcB',\n",
       " b'FlRlIkw5QwA2GggaR0YBBg5ZTgIcAAw3SVIaAQcVEU8QTyEaYy0fDE4ITlhI',\n",
       " b'Jk8DCkkcC3hFMQIEC0EbAVIqCFZBO1IdBgZUVA4QTgUWSR4QJwwRTWM=']"
      ]
     },
     "execution_count": 135,
     "metadata": {},
     "output_type": "execute_result"
    }
   ],
   "source": [
    "list_EncodedStrings"
   ]
  },
  {
   "cell_type": "code",
   "execution_count": null,
   "metadata": {},
   "outputs": [],
   "source": []
  }
 ],
 "metadata": {
  "kernelspec": {
   "display_name": "Python 3",
   "language": "python",
   "name": "python3"
  },
  "language_info": {
   "codemirror_mode": {
    "name": "ipython",
    "version": 3
   },
   "file_extension": ".py",
   "mimetype": "text/x-python",
   "name": "python",
   "nbconvert_exporter": "python",
   "pygments_lexer": "ipython3",
   "version": "3.7.3"
  }
 },
 "nbformat": 4,
 "nbformat_minor": 2
}
