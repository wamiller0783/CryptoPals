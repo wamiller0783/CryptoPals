{
 "cells": [
  {
   "cell_type": "code",
   "execution_count": 1,
   "metadata": {},
   "outputs": [],
   "source": [
    "import sys\n",
    "import codecs\n",
    "import base64\n",
    "import numpy as np"
   ]
  },
  {
   "cell_type": "markdown",
   "metadata": {},
   "source": [
    "### Challege 1\n",
    "#### Convert Hex to Base64\n",
    "Test string: 49276d206b696c6c696e6720796f757220627261696e206c696b65206120706f69736f6e6f7573206d757368726f6f6d\n",
    "\n",
    "Ouput: SSdtIGtpbGxpbmcgeW91ciBicmFpbiBsaWtlIGEgcG9pc29ub3VzIG11c2hyb29t"
   ]
  },
  {
   "cell_type": "code",
   "execution_count": 2,
   "metadata": {},
   "outputs": [],
   "source": [
    "def hex_to_b64(bytes_Hex):\n",
    "    hex_Decoded = codecs.decode(bytes_Hex, 'hex')\n",
    "    b64_Encoded = codecs.encode(hex_Decoded, 'base64')\n",
    "    return b64_Encoded"
   ]
  },
  {
   "cell_type": "code",
   "execution_count": 3,
   "metadata": {},
   "outputs": [
    {
     "name": "stdout",
     "output_type": "stream",
     "text": [
      "b'SSdtIGtpbGxpbmcgeW91ciBicmFpbiBsaWtlIGEgcG9pc29ub3VzIG11c2hyb29t\\n'\n"
     ]
    }
   ],
   "source": [
    "bstr_test = b'49276d206b696c6c696e6720796f757220627261696e206c696b65206120706f69736f6e6f7573206d757368726f6f6d'\n",
    "print(hex_to_b64(bstr_test))"
   ]
  },
  {
   "cell_type": "markdown",
   "metadata": {},
   "source": [
    "### Challege 2\n",
    "#### Fixed XOR\n",
    "Write a function that takes two equal-length buffers and produces their XOR combination.\n",
    "\n",
    "If your function works properly, then when you feed it the string:\n",
    "\n",
    "1c0111001f010100061a024b53535009181c\n",
    "... after hex decoding, and when XOR'd against:\n",
    "\n",
    "686974207468652062756c6c277320657965\n",
    "... should produce:\n",
    "\n",
    "746865206b696420646f6e277420706c6179\n"
   ]
  },
  {
   "cell_type": "code",
   "execution_count": 4,
   "metadata": {},
   "outputs": [],
   "source": [
    "def fixed_xor(byte_str1, byte_str2):\n",
    "    hex_str1 = int(str(byte_str1.decode('utf-8')), base=16)\n",
    "    hex_str2 = int(str(byte_str2.decode('utf-8')), base=16)\n",
    "    val_XOR = hex(hex_str1 ^ hex_str2).encode()[2:]\n",
    "    return val_XOR"
   ]
  },
  {
   "cell_type": "code",
   "execution_count": 5,
   "metadata": {},
   "outputs": [
    {
     "name": "stdout",
     "output_type": "stream",
     "text": [
      "b'746865206b696420646f6e277420706c6179'\n"
     ]
    }
   ],
   "source": [
    "byte_teststr1 = b'1c0111001f010100061a024b53535009181c'\n",
    "byte_teststr2 = b'686974207468652062756c6c277320657965'\n",
    "print(fixed_xor(byte_teststr1, byte_teststr2))"
   ]
  },
  {
   "cell_type": "markdown",
   "metadata": {},
   "source": [
    "### Challege 3\n",
    "#### Single-byte XOR Cypher\n",
    "\n",
    "The hex encoded string:\n",
    "\n",
    "1b37373331363f78151b7f2b783431333d78397828372d363c78373e783a393b3736\n",
    "... has been XOR'd against a single character. Find the key, decrypt the message.\n",
    "\n",
    "You can do this by hand. But don't: write code to do it for you."
   ]
  },
  {
   "cell_type": "code",
   "execution_count": 6,
   "metadata": {},
   "outputs": [],
   "source": [
    "def get_str_letter_freq(str_Test, dict_EnglishLetterFreq):\n",
    "    \"\"\"\n",
    "    Input: string of letters, a dictionary containing the letters to be tested as keys\n",
    "    Output: a dictionary of the frequency of letters in the string\n",
    "    Notes: Called by EnglishScore\n",
    "    \"\"\"\n",
    "    list_EnglishLetters = [i for i, k in dict_EnglishLetterFreq.items()]\n",
    "    dict_StringLetterCount = dict.fromkeys(list_EnglishLetters , 0)\n",
    "    str_Test = str_Test.lower()\n",
    "    val_NotLetterPenalty = 0\n",
    "    for c in str_Test:\n",
    "        if c in list_EnglishLetters:\n",
    "            dict_StringLetterCount[c] += 1\n",
    "        elif c == ' ':\n",
    "            val_NotLetterPenalty += 0 #no penalty for spaces\n",
    "        else:\n",
    "            val_NotLetterPenalty += 0.1 #adjustable penalty for non-English letter, non-space characters\n",
    "    dict_StringLetterFreq = {k: v / len(str_Test) for k, v in dict_StringLetterCount.items()}\n",
    "    return dict_StringLetterFreq, val_NotLetterPenalty\n",
    "\n",
    "def test_str_for_engish(str_Test):\n",
    "    dict_EnglishLetterFreq = {'a': 0.0817,'b': 0.0149,'c': 0.0278,'d': 0.0425,'e': 0.127,'f': 0.0223,'g': 0.0202,\n",
    "                              'h': 0.0609,'i': 0.0697,'j': 0.0015,'k': 0.0077,'l': 0.0403,'m': 0.0241,'n': 0.0675,\n",
    "                              'o': 0.0751,'p': 0.0193,'q': 0.001,'r': 0.0599,'s': 0.0633,'t': 0.0906,'u': 0.0276,\n",
    "                              'v': 0.0098,'w': 0.0236,'x': 0.0015, 'y': 0.0197,'z': 0.0007}\n",
    "    dict_TestLetterFreq, val_NotLetterPenalty = get_str_letter_freq(str_Test, dict_EnglishLetterFreq)\n",
    "    list_EnglishScore = [(a - b)**2 for (a,b) in zip(dict_TestLetterFreq.values(), dict_EnglishLetterFreq.values())]\n",
    "    total_EnglishScore = sum(list_EnglishScore) + val_NotLetterPenalty\n",
    "    return total_EnglishScore\n",
    "\n",
    "def score_english_strings(list_TestStrings):\n",
    "    dict_StringScores = dict.fromkeys(list_TestStrings, 0)\n",
    "    for s in list_TestStrings:\n",
    "        dict_StringScores[s] = test_str_for_engish(s)\n",
    "    string_MinScore = min(dict_StringScores, key=lambda key: dict_StringScores[key])\n",
    "    return string_MinScore, dict_StringScores[string_MinScore], dict_StringScores"
   ]
  },
  {
   "cell_type": "code",
   "execution_count": 70,
   "metadata": {},
   "outputs": [],
   "source": [
    "def single_byte_xor(str_Encoded, byte_Char):\n",
    "    list_Decoded = []\n",
    "    for c in str_Encoded:\n",
    "        val_XOR = c ^ byte_Char\n",
    "        list_Decoded.append(chr(val_XOR))\n",
    "    str_Decoded = ''.join(list_Decoded)\n",
    "    return str_Decoded\n",
    "\n",
    "\n",
    "def decode_single_byte_hex_xor(str_HexEncode):\n",
    "    list_DecodedStrings = []\n",
    "    str_HexDecode = codecs.decode(str_HexEncode, 'hex')\n",
    "    for i in range(0, 256):\n",
    "        bytes_XORd = single_byte_xor(str_HexDecode, i)\n",
    "        if len(bytes_XORd) > 0:\n",
    "            list_DecodedStrings.append(bytes_XORd)\n",
    "    return list_DecodedStrings\n",
    "\n",
    "def decode_single_byte_xor(str_Bytes):\n",
    "    list_DecodedStrings = []\n",
    "    for i in range(0, 256):\n",
    "        bytes_XORd = single_byte_xor(str_Bytes, i)\n",
    "        if len(bytes_XORd) > 0:\n",
    "            list_DecodedStrings.append(bytes_XORd)\n",
    "    return list_DecodedStrings"
   ]
  },
  {
   "cell_type": "code",
   "execution_count": 71,
   "metadata": {},
   "outputs": [
    {
     "name": "stdout",
     "output_type": "stream",
     "text": [
      "Cooking MC's like a pound of bacon\n"
     ]
    }
   ],
   "source": [
    "str_SingleByteEncode = b'1b37373331363f78151b7f2b783431333d78397828372d363c78373e783a393b3736'\n",
    "list_DecodedStrings = decode_single_byte_hex_xor(str_SingleByteEncode)\n",
    "str_BestEngScore, val_BestEngScore, dict_AllScores = score_english_strings(list_DecodedStrings)\n",
    "print(str_BestEngScore)"
   ]
  },
  {
   "cell_type": "code",
   "execution_count": 72,
   "metadata": {},
   "outputs": [],
   "source": [
    "#list_DecodedStrings"
   ]
  },
  {
   "cell_type": "markdown",
   "metadata": {},
   "source": [
    "### Challenge 4\n",
    "#### Detect single-character XOR\n",
    "One of the 60-character strings in this file has been encrypted by single-character XOR."
   ]
  },
  {
   "cell_type": "code",
   "execution_count": 73,
   "metadata": {},
   "outputs": [],
   "source": [
    "f = open('./ChallengeSet1_4.txt', 'rb')\n",
    "list_EncodedStrings = [l.strip() for l in f]"
   ]
  },
  {
   "cell_type": "code",
   "execution_count": 76,
   "metadata": {},
   "outputs": [],
   "source": [
    "list_AllDecodedStrings = []\n",
    "for s in list_EncodedStrings:\n",
    "    \n",
    "    list_DecodedElement = decode_single_byte_hex_xor(s)\n",
    "    \n",
    "    if len(list_DecodedElement) > 0:\n",
    "        str_BestEngScore, val_BestEngScore, dict_AllScores = score_english_strings(list_DecodedElement)\n",
    "        list_AllDecodedStrings.extend(list_DecodedElement)"
   ]
  },
  {
   "cell_type": "code",
   "execution_count": 77,
   "metadata": {},
   "outputs": [
    {
     "name": "stdout",
     "output_type": "stream",
     "text": [
      "Now that the party is jumping\n",
      "\n"
     ]
    }
   ],
   "source": [
    "str_BestEngScore, val_BestEngScore, dict_AllScores = score_english_strings(list_AllDecodedStrings)\n",
    "print(str_BestEngScore)"
   ]
  },
  {
   "cell_type": "code",
   "execution_count": 78,
   "metadata": {},
   "outputs": [],
   "source": [
    "#[(k, dict_AllScores[k]) for k in sorted(dict_AllScores, key = dict_AllScores.get)]"
   ]
  },
  {
   "cell_type": "markdown",
   "metadata": {},
   "source": [
    "### Challenge 5\n",
    "#### Implement repeating-key XOR\n",
    "Here is the opening stanza of an important work of the English language:\n",
    "\n",
    ">Burning 'em, if you ain't quick and nimble  \n",
    "I go crazy when I hear a cymbal  \n",
    "\n",
    "Encrypt it, under the key \"ICE\", using repeating-key XOR.  \n",
    "\n",
    "In repeating-key XOR, you'll sequentially apply each byte of the key; the first byte of plaintext will be XOR'd against I, the next C, the next E, then I again for the 4th byte, and so on.\n",
    "\n",
    "It should come out to:\n",
    "\n",
    ">0b3637272a2b2e63622c2e69692a23693a2a3c6324202d623d63343c2a26226324272765272  \n",
    "a282b2f20430a652e2c652a3124333a653e2b2027630c692b20283165286326302e27282f\n",
    "\n",
    "Encrypt a bunch of stuff using your repeating-key XOR function. Encrypt your mail. Encrypt your password file. Your .sig file. Get a feel for it. I promise, we aren't wasting your time with this."
   ]
  },
  {
   "cell_type": "code",
   "execution_count": 79,
   "metadata": {},
   "outputs": [],
   "source": [
    "def encode_repeating_key_XOR(str_Encode, str_Key):\n",
    "    list_XORdChars = []\n",
    "    val_KeyLength = len(str_Key)\n",
    "    for i in range(0, len(str_Encode)):\n",
    "        val_XOR = str_Key[i % val_KeyLength] ^  str_Encode[i]\n",
    "        list_XORdChars.append(hex(val_XOR)[2:].zfill(2))\n",
    "    return ''.join(list_XORdChars)"
   ]
  },
  {
   "cell_type": "code",
   "execution_count": 80,
   "metadata": {},
   "outputs": [
    {
     "name": "stdout",
     "output_type": "stream",
     "text": [
      "0b3637272a2b2e63622c2e69692a23693a2a3c6324202d623d63343c2a26226324272765272a282b2f20690a652e2c652a3124333a653e2b2027630c692b20283165286326302e27282f\n"
     ]
    }
   ],
   "source": [
    "str_Encode =  b\"Burning 'em, if you ain't quick and nimble I go crazy when I hear a cymbal\"\n",
    "str_Key = b'ICE'\n",
    "\n",
    "print(encode_repeating_key_XOR(str_Encode, str_Key))"
   ]
  },
  {
   "cell_type": "markdown",
   "metadata": {},
   "source": [
    "### Challenge 6\n",
    "#### Break repeating-key XOR\n",
    "\n",
    "There's a file here. It's been base64'd after being encrypted with repeating-key XOR.\n",
    "\n",
    "Decrypt it.\n",
    "\n",
    "Here's how:\n",
    "\n",
    "Let KEYSIZE be the guessed length of the key; try values from 2 to (say) 40.\n",
    "Write a function to compute the edit distance/Hamming distance between two strings. The Hamming distance is just the number of differing bits. The distance between:\n",
    ">this is a test\n",
    "\n",
    "and\n",
    ">wokka wokka!!!\n",
    "\n",
    "is 37.  \n",
    "\n",
    "Make sure your code agrees before you proceed.  \n",
    "\n",
    "For each KEYSIZE, take the first KEYSIZE worth of bytes, and the second KEYSIZE worth of bytes, and find the edit distance between them. Normalize this result by dividing by KEYSIZE.  \n",
    "\n",
    "The KEYSIZE with the smallest normalized edit distance is probably the key. You could proceed perhaps with the smallest 2-3 KEYSIZE values. Or take 4 KEYSIZE blocks instead of 2 and average the distances.  \n",
    "\n",
    "Now that you probably know the KEYSIZE: break the ciphertext into blocks of KEYSIZE length.  \n",
    "\n",
    "Now transpose the blocks: make a block that is the first byte of every block, and a block that is the second byte of every block, and so on.  \n",
    "\n",
    "Solve each block as if it was single-character XOR. You already have code to do this.  \n",
    "\n",
    "For each block, the single-byte XOR key that produces the best looking histogram is the repeating-key XOR key byte for that block. Put them together and you have the key."
   ]
  },
  {
   "cell_type": "code",
   "execution_count": 81,
   "metadata": {},
   "outputs": [],
   "source": [
    "def str_to_bits(s):\n",
    "    bits_str = [bin(ord(c))[2:].zfill(8).encode() for c in s]\n",
    "    return bits_str\n",
    "\n",
    "def ord_to_bits(s):\n",
    "    bits_str = [bin(c)[2:].zfill(8).encode() for c in s]\n",
    "    return bits_str\n",
    "\n",
    "\n",
    "def str_hamming_distance(str1, str2):\n",
    "    assert len(str1) == len(str2), 'String lengths are not equal'\n",
    "    list_bits1 = str_to_bits(str1)\n",
    "    list_bits2 = str_to_bits(str2)\n",
    "    total_diffbits = 0\n",
    "    for (bits1, bits2) in zip(list_bits1, list_bits2):\n",
    "        i = 0\n",
    "        n = 0\n",
    "        for c in bits1:\n",
    "            if c!= bits2[i]:\n",
    "                n += 1\n",
    "            i += 1\n",
    "        total_diffbits += n\n",
    "    return total_diffbits\n",
    "\n",
    "def ord_hamming_distance(ord1, ord2):\n",
    "    assert len(ord1) == len(ord2), 'String lengths are not equal'\n",
    "    list_bits1 = ord_to_bits(ord1)\n",
    "    list_bits2 = ord_to_bits(ord2)\n",
    "    total_diffbits = 0\n",
    "    for (bits1, bits2) in zip(list_bits1, list_bits2):\n",
    "        i = 0\n",
    "        n = 0\n",
    "        for c in bits1:\n",
    "            if c!= bits2[i]:\n",
    "                n += 1\n",
    "            i += 1\n",
    "        total_diffbits += n\n",
    "    return total_diffbits"
   ]
  },
  {
   "cell_type": "code",
   "execution_count": 82,
   "metadata": {},
   "outputs": [],
   "source": [
    "def get_keys(s, keylength):\n",
    "    s[0:keylength]"
   ]
  },
  {
   "cell_type": "code",
   "execution_count": 83,
   "metadata": {},
   "outputs": [
    {
     "data": {
      "text/plain": [
       "37"
      ]
     },
     "execution_count": 83,
     "metadata": {},
     "output_type": "execute_result"
    }
   ],
   "source": [
    "str1 = 'this is a test'\n",
    "str2  = 'wokka wokka!!!'\n",
    "str_hamming_distance(str1, str2)"
   ]
  },
  {
   "cell_type": "code",
   "execution_count": 84,
   "metadata": {},
   "outputs": [],
   "source": [
    "f = open('./ChallengeSet1_6.txt', 'rb')\n",
    "list_EncodedStrings = [l.decode().strip() for l in f]\n",
    "str_EncodedContinuous64b = ''.join(list_EncodedStrings).encode()"
   ]
  },
  {
   "cell_type": "code",
   "execution_count": 85,
   "metadata": {},
   "outputs": [],
   "source": [
    "str_EncodedContinuous = base64.decodebytes(str_EncodedContinuous64b)"
   ]
  },
  {
   "cell_type": "code",
   "execution_count": 86,
   "metadata": {},
   "outputs": [],
   "source": [
    "def get_best_keysizes(str_EncodedContinuous, \n",
    "                      min_key_length=2, max_key_length=40, num_top_keys=3, **kws):\n",
    "    dict_key_hamming_dist = {}\n",
    "    for keysize in range(2,40):\n",
    "        test_key1 = str_EncodedContinuous[0:keysize]\n",
    "        test_key2 = str_EncodedContinuous[keysize:2*keysize]\n",
    "        norm_hamming_distance = ord_hamming_distance(test_key1, test_key2)\n",
    "        dict_key_hamming_dist[keysize] = norm_hamming_distance\n",
    "    best_keysizes = sorted(dict_key_hamming_dist, key=dict_key_hamming_dist.get)[0:num_top_keys]\n",
    "    return best_keysizes\n",
    "\n",
    "def create_keysize_block_list(str_EncodedContinuous, keysize):\n",
    "    list_blocks = []\n",
    "    num_blocks = len(str_EncodedContinuous) // keysize\n",
    "    for i in range(0, num_blocks):\n",
    "        list_blocks.append(str_EncodedContinuous[keysize*i:keysize*(i+1)])\n",
    "    return list_blocks\n",
    "\n",
    "def transpose_blocks(list_EncodedBlocks, blocksize):\n",
    "    list_TransposedBlocks = [[] for e in list_EncodedBlocks]\n",
    "    blocknum = 0\n",
    "    list_SingleBlockTransposed = []\n",
    "    list_TransposedBlocks = []\n",
    "    for i in range(0, blocksize):\n",
    "        for e in list_EncodedBlocks:\n",
    "            list_SingleBlockTransposed.append(bytes([e[i]]))\n",
    "        list_TransposedBlocks.append(b''.join(list_SingleBlockTransposed))\n",
    "    return list_TransposedBlocks\n",
    "        \n",
    "        "
   ]
  },
  {
   "cell_type": "code",
   "execution_count": 88,
   "metadata": {},
   "outputs": [
    {
     "name": "stdout",
     "output_type": "stream",
     "text": [
      "[2, 3, 5]\n"
     ]
    }
   ],
   "source": [
    "best_keysizes = get_best_keysizes(str_EncodedContinuous)\n",
    "print(best_keysizes)"
   ]
  },
  {
   "cell_type": "code",
   "execution_count": 89,
   "metadata": {},
   "outputs": [],
   "source": [
    "list_EncodedBlocks = create_keysize_block_list(str_EncodedContinuous, 5)"
   ]
  },
  {
   "cell_type": "code",
   "execution_count": 90,
   "metadata": {},
   "outputs": [],
   "source": [
    "list_EncodedBlocksTransposed = transpose_blocks(list_EncodedBlocks, 5)"
   ]
  },
  {
   "cell_type": "code",
   "execution_count": 91,
   "metadata": {},
   "outputs": [],
   "source": [
    "for e in list_EncodedBlocksTransposed:\n",
    "    list_DecodedStrings = decode_single_byte_xor(e)\n",
    "    str_BestEngScore, val_BestEngScore, dict_AllScores = score_english_strings(list_DecodedStrings)\n",
    "    print(str_BestEn)"
   ]
  },
  {
   "cell_type": "code",
   "execution_count": null,
   "metadata": {},
   "outputs": [],
   "source": []
  }
 ],
 "metadata": {
  "hide_input": false,
  "kernelspec": {
   "display_name": "Python 3",
   "language": "python",
   "name": "python3"
  },
  "language_info": {
   "codemirror_mode": {
    "name": "ipython",
    "version": 3
   },
   "file_extension": ".py",
   "mimetype": "text/x-python",
   "name": "python",
   "nbconvert_exporter": "python",
   "pygments_lexer": "ipython3",
   "version": "3.6.7"
  }
 },
 "nbformat": 4,
 "nbformat_minor": 2
}
