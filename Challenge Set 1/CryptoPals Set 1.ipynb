{
 "cells": [
  {
   "cell_type": "code",
   "execution_count": 1,
   "metadata": {},
   "outputs": [],
   "source": [
    "import sys\n",
    "import codecs\n",
    "import base64\n",
    "import numpy as np"
   ]
  },
  {
   "cell_type": "markdown",
   "metadata": {},
   "source": [
    "### Challege 1\n",
    "#### Convert Hex to Base64\n",
    "Test string: 49276d206b696c6c696e6720796f757220627261696e206c696b65206120706f69736f6e6f7573206d757368726f6f6d\n",
    "\n",
    "Ouput: SSdtIGtpbGxpbmcgeW91ciBicmFpbiBsaWtlIGEgcG9pc29ub3VzIG11c2hyb29t"
   ]
  },
  {
   "cell_type": "code",
   "execution_count": 2,
   "metadata": {},
   "outputs": [],
   "source": [
    "def hex_to_b64(bytes_Hex):\n",
    "    hex_Decoded = codecs.decode(bytes_Hex, 'hex')\n",
    "    b64_Encoded = codecs.encode(hex_Decoded, 'base64')\n",
    "    return b64_Encoded"
   ]
  },
  {
   "cell_type": "code",
   "execution_count": 3,
   "metadata": {},
   "outputs": [
    {
     "name": "stdout",
     "output_type": "stream",
     "text": [
      "b'SSdtIGtpbGxpbmcgeW91ciBicmFpbiBsaWtlIGEgcG9pc29ub3VzIG11c2hyb29t\\n'\n"
     ]
    }
   ],
   "source": [
    "bstr_test = b'49276d206b696c6c696e6720796f757220627261696e206c696b65206120706f69736f6e6f7573206d757368726f6f6d'\n",
    "print(hex_to_b64(bstr_test))"
   ]
  },
  {
   "cell_type": "markdown",
   "metadata": {},
   "source": [
    "### Challege 2\n",
    "#### Fixed XOR\n",
    "Write a function that takes two equal-length buffers and produces their XOR combination.\n",
    "\n",
    "If your function works properly, then when you feed it the string:\n",
    "\n",
    "1c0111001f010100061a024b53535009181c\n",
    "... after hex decoding, and when XOR'd against:\n",
    "\n",
    "686974207468652062756c6c277320657965\n",
    "... should produce:\n",
    "\n",
    "746865206b696420646f6e277420706c6179\n"
   ]
  },
  {
   "cell_type": "code",
   "execution_count": 4,
   "metadata": {},
   "outputs": [],
   "source": [
    "def fixed_xor(byte_str1, byte_str2):\n",
    "    hex_str1 = int(str(byte_str1.decode('utf-8')), base=16)\n",
    "    hex_str2 = int(str(byte_str2.decode('utf-8')), base=16)\n",
    "    val_XOR = hex(hex_str1 ^ hex_str2).encode()[2:]\n",
    "    return val_XOR"
   ]
  },
  {
   "cell_type": "code",
   "execution_count": 5,
   "metadata": {},
   "outputs": [
    {
     "name": "stdout",
     "output_type": "stream",
     "text": [
      "b'746865206b696420646f6e277420706c6179'\n"
     ]
    }
   ],
   "source": [
    "byte_teststr1 = b'1c0111001f010100061a024b53535009181c'\n",
    "byte_teststr2 = b'686974207468652062756c6c277320657965'\n",
    "print(fixed_xor(byte_teststr1, byte_teststr2))"
   ]
  },
  {
   "cell_type": "markdown",
   "metadata": {},
   "source": [
    "### Challege 3\n",
    "#### Single-byte XOR Cypher\n",
    "\n",
    "The hex encoded string:\n",
    "\n",
    "1b37373331363f78151b7f2b783431333d78397828372d363c78373e783a393b3736\n",
    "... has been XOR'd against a single character. Find the key, decrypt the message.\n",
    "\n",
    "You can do this by hand. But don't: write code to do it for you."
   ]
  },
  {
   "cell_type": "code",
   "execution_count": 6,
   "metadata": {},
   "outputs": [],
   "source": [
    "def get_str_letter_freq(str_Test, dict_EnglishLetterFreq):\n",
    "    \"\"\"\n",
    "    Input: string of letters, a dictionary containing the letters to be tested as keys\n",
    "    Output: a dictionary of the frequency of letters in the string\n",
    "    Notes: Called by EnglishScore\n",
    "    \"\"\"\n",
    "    list_EnglishLetters = [i for i, k in dict_EnglishLetterFreq.items()]\n",
    "    dict_StringLetterCount = dict.fromkeys(list_EnglishLetters , 0)\n",
    "    str_Test = str_Test.lower()\n",
    "    val_NotLetterPenalty = 0\n",
    "    for c in str_Test:\n",
    "        if c in list_EnglishLetters:\n",
    "            dict_StringLetterCount[c] += 1\n",
    "        elif c == ' ':\n",
    "            val_NotLetterPenalty += 0 #no penalty for spaces\n",
    "        else:\n",
    "            val_NotLetterPenalty += 0.1 #adjustable penalty for non-English letter, non-space characters\n",
    "    dict_StringLetterFreq = {k: v / len(str_Test) for k, v in dict_StringLetterCount.items()}\n",
    "    return dict_StringLetterFreq, val_NotLetterPenalty\n",
    "\n",
    "def test_str_for_engish(str_Test):\n",
    "    dict_EnglishLetterFreq = {'a': 0.0817,'b': 0.0149,'c': 0.0278,'d': 0.0425,'e': 0.127,'f': 0.0223,'g': 0.0202,\n",
    "                              'h': 0.0609,'i': 0.0697,'j': 0.0015,'k': 0.0077,'l': 0.0403,'m': 0.0241,'n': 0.0675,\n",
    "                              'o': 0.0751,'p': 0.0193,'q': 0.001,'r': 0.0599,'s': 0.0633,'t': 0.0906,'u': 0.0276,\n",
    "                              'v': 0.0098,'w': 0.0236,'x': 0.0015, 'y': 0.0197,'z': 0.0007}\n",
    "    dict_TestLetterFreq, val_NotLetterPenalty = get_str_letter_freq(str_Test, dict_EnglishLetterFreq)\n",
    "    list_EnglishScore = [(a - b)**2 for (a,b) in zip(dict_TestLetterFreq.values(), dict_EnglishLetterFreq.values())]\n",
    "    total_EnglishScore = sum(list_EnglishScore) + val_NotLetterPenalty\n",
    "    return total_EnglishScore\n",
    "\n",
    "def score_english_strings(list_TestStrings):\n",
    "    dict_StringScores = dict.fromkeys(list_TestStrings, 0)\n",
    "    for s in list_TestStrings:\n",
    "        dict_StringScores[s] = test_str_for_engish(s)\n",
    "    string_MinScore = min(dict_StringScores, key=lambda key: dict_StringScores[key])\n",
    "    return string_MinScore, dict_StringScores[string_MinScore], dict_StringScores"
   ]
  },
  {
   "cell_type": "code",
   "execution_count": 70,
   "metadata": {},
   "outputs": [],
   "source": [
    "def single_byte_xor(str_Encoded, byte_Char):\n",
    "    list_Decoded = []\n",
    "    for c in str_Encoded:\n",
    "        val_XOR = c ^ byte_Char\n",
    "        list_Decoded.append(chr(val_XOR))\n",
    "    str_Decoded = ''.join(list_Decoded)\n",
    "    return str_Decoded\n",
    "\n",
    "\n",
    "def decode_single_byte_hex_xor(str_HexEncode):\n",
    "    list_DecodedStrings = []\n",
    "    str_HexDecode = codecs.decode(str_HexEncode, 'hex')\n",
    "    for i in range(0, 256):\n",
    "        bytes_XORd = single_byte_xor(str_HexDecode, i)\n",
    "        if len(bytes_XORd) > 0:\n",
    "            list_DecodedStrings.append(bytes_XORd)\n",
    "    return list_DecodedStrings\n",
    "\n",
    "def decode_single_byte_xor(str_Bytes):\n",
    "    list_DecodedStrings = []\n",
    "    for i in range(0, 256):\n",
    "        bytes_XORd = single_byte_xor(str_Bytes, i)\n",
    "        if len(bytes_XORd) > 0:\n",
    "            list_DecodedStrings.append(bytes_XORd)\n",
    "    return list_DecodedStrings"
   ]
  },
  {
   "cell_type": "code",
   "execution_count": 71,
   "metadata": {},
   "outputs": [
    {
     "name": "stdout",
     "output_type": "stream",
     "text": [
      "Cooking MC's like a pound of bacon\n"
     ]
    }
   ],
   "source": [
    "str_SingleByteEncode = b'1b37373331363f78151b7f2b783431333d78397828372d363c78373e783a393b3736'\n",
    "list_DecodedStrings = decode_single_byte_hex_xor(str_SingleByteEncode)\n",
    "str_BestEngScore, val_BestEngScore, dict_AllScores = score_english_strings(list_DecodedStrings)\n",
    "print(str_BestEngScore)"
   ]
  },
  {
   "cell_type": "code",
   "execution_count": 72,
   "metadata": {},
   "outputs": [],
   "source": [
    "#list_DecodedStrings"
   ]
  },
  {
   "cell_type": "markdown",
   "metadata": {},
   "source": [
    "### Challenge 4\n",
    "#### Detect single-character XOR\n",
    "One of the 60-character strings in this file has been encrypted by single-character XOR."
   ]
  },
  {
   "cell_type": "code",
   "execution_count": 73,
   "metadata": {},
   "outputs": [],
   "source": [
    "f = open('./ChallengeSet1_4.txt', 'rb')\n",
    "list_EncodedStrings = [l.strip() for l in f]"
   ]
  },
  {
   "cell_type": "code",
   "execution_count": 76,
   "metadata": {},
   "outputs": [],
   "source": [
    "list_AllDecodedStrings = []\n",
    "for s in list_EncodedStrings:\n",
    "    \n",
    "    list_DecodedElement = decode_single_byte_hex_xor(s)\n",
    "    \n",
    "    if len(list_DecodedElement) > 0:\n",
    "        str_BestEngScore, val_BestEngScore, dict_AllScores = score_english_strings(list_DecodedElement)\n",
    "        list_AllDecodedStrings.extend(list_DecodedElement)"
   ]
  },
  {
   "cell_type": "code",
   "execution_count": 77,
   "metadata": {},
   "outputs": [
    {
     "name": "stdout",
     "output_type": "stream",
     "text": [
      "Now that the party is jumping\n",
      "\n"
     ]
    }
   ],
   "source": [
    "str_BestEngScore, val_BestEngScore, dict_AllScores = score_english_strings(list_AllDecodedStrings)\n",
    "print(str_BestEngScore)"
   ]
  },
  {
   "cell_type": "code",
   "execution_count": 78,
   "metadata": {},
   "outputs": [],
   "source": [
    "#[(k, dict_AllScores[k]) for k in sorted(dict_AllScores, key = dict_AllScores.get)]"
   ]
  },
  {
   "cell_type": "markdown",
   "metadata": {},
   "source": [
    "### Challenge 5\n",
    "#### Implement repeating-key XOR\n",
    "Here is the opening stanza of an important work of the English language:\n",
    "\n",
    ">Burning 'em, if you ain't quick and nimble  \n",
    "I go crazy when I hear a cymbal  \n",
    "\n",
    "Encrypt it, under the key \"ICE\", using repeating-key XOR.  \n",
    "\n",
    "In repeating-key XOR, you'll sequentially apply each byte of the key; the first byte of plaintext will be XOR'd against I, the next C, the next E, then I again for the 4th byte, and so on.\n",
    "\n",
    "It should come out to:\n",
    "\n",
    ">0b3637272a2b2e63622c2e69692a23693a2a3c6324202d623d63343c2a26226324272765272  \n",
    "a282b2f20430a652e2c652a3124333a653e2b2027630c692b20283165286326302e27282f\n",
    "\n",
    "Encrypt a bunch of stuff using your repeating-key XOR function. Encrypt your mail. Encrypt your password file. Your .sig file. Get a feel for it. I promise, we aren't wasting your time with this."
   ]
  },
  {
   "cell_type": "code",
   "execution_count": 79,
   "metadata": {},
   "outputs": [],
   "source": [
    "def encode_repeating_key_XOR(str_Encode, str_Key):\n",
    "    list_XORdChars = []\n",
    "    val_KeyLength = len(str_Key)\n",
    "    for i in range(0, len(str_Encode)):\n",
    "        val_XOR = str_Key[i % val_KeyLength] ^  str_Encode[i]\n",
    "        list_XORdChars.append(hex(val_XOR)[2:].zfill(2))\n",
    "    return ''.join(list_XORdChars)"
   ]
  },
  {
   "cell_type": "code",
   "execution_count": 80,
   "metadata": {},
   "outputs": [
    {
     "name": "stdout",
     "output_type": "stream",
     "text": [
      "0b3637272a2b2e63622c2e69692a23693a2a3c6324202d623d63343c2a26226324272765272a282b2f20690a652e2c652a3124333a653e2b2027630c692b20283165286326302e27282f\n"
     ]
    }
   ],
   "source": [
    "str_Encode =  b\"Burning 'em, if you ain't quick and nimble I go crazy when I hear a cymbal\"\n",
    "str_Key = b'ICE'\n",
    "\n",
    "print(encode_repeating_key_XOR(str_Encode, str_Key))"
   ]
  },
  {
   "cell_type": "markdown",
   "metadata": {},
   "source": [
    "### Challenge 6\n",
    "#### Break repeating-key XOR\n",
    "\n",
    "There's a file here. It's been base64'd after being encrypted with repeating-key XOR.\n",
    "\n",
    "Decrypt it.\n",
    "\n",
    "Here's how:\n",
    "\n",
    "Let KEYSIZE be the guessed length of the key; try values from 2 to (say) 40.\n",
    "Write a function to compute the edit distance/Hamming distance between two strings. The Hamming distance is just the number of differing bits. The distance between:\n",
    ">this is a test\n",
    "\n",
    "and\n",
    ">wokka wokka!!!\n",
    "\n",
    "is 37.  \n",
    "\n",
    "Make sure your code agrees before you proceed.  \n",
    "\n",
    "For each KEYSIZE, take the first KEYSIZE worth of bytes, and the second KEYSIZE worth of bytes, and find the edit distance between them. Normalize this result by dividing by KEYSIZE.  \n",
    "\n",
    "The KEYSIZE with the smallest normalized edit distance is probably the key. You could proceed perhaps with the smallest 2-3 KEYSIZE values. Or take 4 KEYSIZE blocks instead of 2 and average the distances.  \n",
    "\n",
    "Now that you probably know the KEYSIZE: break the ciphertext into blocks of KEYSIZE length.  \n",
    "\n",
    "Now transpose the blocks: make a block that is the first byte of every block, and a block that is the second byte of every block, and so on.  \n",
    "\n",
    "Solve each block as if it was single-character XOR. You already have code to do this.  \n",
    "\n",
    "For each block, the single-byte XOR key that produces the best looking histogram is the repeating-key XOR key byte for that block. Put them together and you have the key."
   ]
  },
  {
   "cell_type": "code",
   "execution_count": 81,
   "metadata": {},
   "outputs": [],
   "source": [
    "def str_to_bits(s):\n",
    "    bits_str = [bin(ord(c))[2:].zfill(8).encode() for c in s]\n",
    "    return bits_str\n",
    "\n",
    "def ord_to_bits(s):\n",
    "    bits_str = [bin(c)[2:].zfill(8).encode() for c in s]\n",
    "    return bits_str\n",
    "\n",
    "\n",
    "def str_hamming_distance(str1, str2):\n",
    "    assert len(str1) == len(str2), 'String lengths are not equal'\n",
    "    list_bits1 = str_to_bits(str1)\n",
    "    list_bits2 = str_to_bits(str2)\n",
    "    total_diffbits = 0\n",
    "    for (bits1, bits2) in zip(list_bits1, list_bits2):\n",
    "        i = 0\n",
    "        n = 0\n",
    "        for c in bits1:\n",
    "            if c!= bits2[i]:\n",
    "                n += 1\n",
    "            i += 1\n",
    "        total_diffbits += n\n",
    "    return total_diffbits\n",
    "\n",
    "def ord_hamming_distance(ord1, ord2):\n",
    "    assert len(ord1) == len(ord2), 'String lengths are not equal'\n",
    "    list_bits1 = ord_to_bits(ord1)\n",
    "    list_bits2 = ord_to_bits(ord2)\n",
    "    total_diffbits = 0\n",
    "    for (bits1, bits2) in zip(list_bits1, list_bits2):\n",
    "        i = 0\n",
    "        n = 0\n",
    "        for c in bits1:\n",
    "            if c!= bits2[i]:\n",
    "                n += 1\n",
    "            i += 1\n",
    "        total_diffbits += n\n",
    "    return total_diffbits"
   ]
  },
  {
   "cell_type": "code",
   "execution_count": 82,
   "metadata": {},
   "outputs": [],
   "source": [
    "def get_keys(s, keylength):\n",
    "    s[0:keylength]"
   ]
  },
  {
   "cell_type": "code",
   "execution_count": 83,
   "metadata": {},
   "outputs": [
    {
     "data": {
      "text/plain": [
       "37"
      ]
     },
     "execution_count": 83,
     "metadata": {},
     "output_type": "execute_result"
    }
   ],
   "source": [
    "str1 = 'this is a test'\n",
    "str2  = 'wokka wokka!!!'\n",
    "str_hamming_distance(str1, str2)"
   ]
  },
  {
   "cell_type": "code",
   "execution_count": 84,
   "metadata": {},
   "outputs": [],
   "source": [
    "f = open('./ChallengeSet1_6.txt', 'rb')\n",
    "list_EncodedStrings = [l.decode().strip() for l in f]\n",
    "str_EncodedContinuous64b = ''.join(list_EncodedStrings).encode()"
   ]
  },
  {
   "cell_type": "code",
   "execution_count": 85,
   "metadata": {},
   "outputs": [],
   "source": [
    "str_EncodedContinuous = base64.decodebytes(str_EncodedContinuous64b)"
   ]
  },
  {
   "cell_type": "code",
   "execution_count": 86,
   "metadata": {},
   "outputs": [],
   "source": [
    "def get_best_keysizes(str_EncodedContinuous, \n",
    "                      min_key_length=2, max_key_length=40, num_top_keys=3, **kws):\n",
    "    dict_key_hamming_dist = {}\n",
    "    for keysize in range(2,40):\n",
    "        test_key1 = str_EncodedContinuous[0:keysize]\n",
    "        test_key2 = str_EncodedContinuous[keysize:2*keysize]\n",
    "        norm_hamming_distance = ord_hamming_distance(test_key1, test_key2)\n",
    "        dict_key_hamming_dist[keysize] = norm_hamming_distance\n",
    "    best_keysizes = sorted(dict_key_hamming_dist, key=dict_key_hamming_dist.get)[0:num_top_keys]\n",
    "    return best_keysizes\n",
    "\n",
    "def create_keysize_block_list(str_EncodedContinuous, keysize):\n",
    "    list_blocks = []\n",
    "    num_blocks = len(str_EncodedContinuous) // keysize\n",
    "    for i in range(0, num_blocks):\n",
    "        list_blocks.append(str_EncodedContinuous[keysize*i:keysize*(i+1)])\n",
    "    return list_blocks\n",
    "\n",
    "def transpose_blocks(list_EncodedBlocks, blocksize):\n",
    "    list_TransposedBlocks = [[] for e in list_EncodedBlocks]\n",
    "    blocknum = 0\n",
    "    list_SingleBlockTransposed = []\n",
    "    list_TransposedBlocks = []\n",
    "    for i in range(0, blocksize):\n",
    "        for e in list_EncodedBlocks:\n",
    "            list_SingleBlockTransposed.append(bytes([e[i]]))\n",
    "        list_TransposedBlocks.append(b''.join(list_SingleBlockTransposed))\n",
    "    return list_TransposedBlocks\n",
    "        \n",
    "        "
   ]
  },
  {
   "cell_type": "code",
   "execution_count": 88,
   "metadata": {},
   "outputs": [
    {
     "name": "stdout",
     "output_type": "stream",
     "text": [
      "[2, 3, 5]\n"
     ]
    }
   ],
   "source": [
    "best_keysizes = get_best_keysizes(str_EncodedContinuous)\n",
    "print(best_keysizes)"
   ]
  },
  {
   "cell_type": "code",
   "execution_count": 98,
   "metadata": {},
   "outputs": [],
   "source": [
    "list_EncodedBlocks = create_keysize_block_list(str_EncodedContinuous, 2)"
   ]
  },
  {
   "cell_type": "code",
   "execution_count": 99,
   "metadata": {},
   "outputs": [],
   "source": [
    "list_EncodedBlocksTransposed = transpose_blocks(list_EncodedBlocks, 2)"
   ]
  },
  {
   "cell_type": "code",
   "execution_count": 100,
   "metadata": {},
   "outputs": [
    {
     "name": "stdout",
     "output_type": "stream",
     "text": [
      "sqel! t\u000b",
      "'`}e o+no\n",
      ":s] <n:c#j=Rp'g!\"tEk)g\n",
      "g!'8I'hce'dnn t<^:u %\f",
      " !=[<fl!+ ^sh:e n+,sa:\u0016B)< c_/uxUy~(v 5@tl:d<i+&/!:\u001as'nxn^\u000b",
      "'lne ~o~#iqu\u0016\u0007<o:i=l=Uh'a!n1E']:~tkb#lm<Snec c:!r0ew|d= \f",
      "o)snykb,#oLrZ/[!DU!u=Yib{`itD'h:+iki+Bds<Yns'no+`yW0sj!\u0019-Urz{b'f+n\to}hY(;a=&nniU<o/u)txblie nxe#luy\u0016\u0007qin!om[y\n",
      "|hlajbjtyd_\"xc!uD&=Tyal! tDspohne\u0001#a:}S/zy)tno=[yo}v:t& )snSjd+.Sws\u0016!Xl\"nDio\u001d",
      "<hko's\f",
      "h){+r'dcm XhO;p +v:xs\u001as`{ln @'F+n'}y#ryuS#ws>t+u\u0017O<h/g7!^')umr'\u0001d$l}hX9yeni>`x\u001assb- tEk)Id *D+zG~<Y+syninsXeb{\u000b",
      ">3Is)scatde#os\u0016 <anrn\u000b",
      "T\u0014Jic`\u00071Uw)'Ijhfm {xZ%< &hnHiBsa!!-Yth}yll++jo\u0010sF os!&<hz[x`}!:$O~g:]nkjBfi:yZ <nnindm_}bmx t\u000b",
      "fz:c o+ybs{y\\-u'\"mnsg\u001apb\u0005n'sMcnu}n'ybdt:uQ/sgDjnir]<o/i:;Kht+htcy#o}\u0016Yns'+g/d=ChbYQ>'I'\u0003n{i x+bdvw\u0016nym H4!N[hb/x:1Ntzri ldm NyS=r <v'&r\u001aub/&n!X`}s,dp+XbkwhUn; /a !tR<nj`(:Xd\u0003u+rwn+foy<Xn<h;nnii0s'fin5In)I+two|#n:yR#<o<c<\u000b",
      "%\u001arj/h+tC+.*b ~rj-\n",
      "CiDnyk hn`i\u001aS'a!n5\f",
      "bes+Yr+dzs}h_ittninnTYrtjm't'f=+ejojgdthTn} ig=!u\u001aen|c\":\f",
      "h@_+o'j+blw<WnEu<&'bt\u001d",
      "}a{!!'I'hqjdboy#LnhS9hh*e!-T_<h{d*:Is)on\n",
      "`!/:\f",
      "f}f *Jrje:rA+y\n",
      "Xr. veB/<u%&;h=[0`/i:tC+n:ct'd+l!kH~c/on=Ks`:dg\n",
      "veB/<u%&;h=Uknjc7tCp`iy'd\u0001b urW*~o'& !qChf/t%tYn)sgyron#\n",
      "q  &!dr\u0016_j/oD8Ush:~k'~b#f+[b rhP em=e9hxXe~zr7=\u0000tps+Pf+cwfte[=A\"r\"!r^nix\u000b",
      "\"-Xf)o` rb'ti~O\n",
      "nie~t;Yizl&!,\f",
      "Qoa/&0\u0017\u000b",
      "efdosi+mhsx;\u0016iSs &!t:S;h(o%6\u000b",
      "o`=~} Zbhfnt\u0011!;n,!(&=\u001d",
      "t iiY\f",
      " kib'yhy$nvr\u0011\u0000;h=n:k:Ro f&i6B Z=yslxe$kj;Tibd'd=&u7bp{c:'\u000b",
      "h.ti~le+$hKu](\\&CR&r:^ne|gnsC o=,nln,Ect;^it ih,g~P7tm&\u001e",
      "*Ru}|e a,i\u000ehzo^/<f:!iinR;h(r.seknb'ib$kr~\u0011\u0000vnix&hj\\~\n",
      "tcbj=~U:;biiicnMz `i.sx .|,rke,tfyvZiot<e.i:\f",
      ")3Q&d\u0018Dka=cbwc,Buzt\u0011<p'ih,k:Uvsit*<X\n",
      "ooa$w~tT(c'u+&k\\~\u000b",
      "ebt,^u,c}tzoXnssiniiS^usmj sx a:,bmhm`csoSiz'n`:&r\u001d",
      "bi{d%=\u000b",
      "oGX,h m,ekp;PiBr;! es\u001azf|&& N ovmceh~$KioT>oo-b&*SX;o|c-=Nt.hi(`0&Y .rju \u0006c#kzo_>~bin9g\u001d",
      "tte*'sBl.Nc'-C,}@y;^,t~initx_be|\f",
      "94Nt.tdfscb$hxt\u0011';fiui\f",
      "S\u0013Mndg\u00006Rp.x Nmoaj'|]\";'!oiOnExtf&&*^soz~kk,,mh\u0017tA'ht&!;o}\\gz&=#Hy`=ZilmEan=~]';iinicjXzej's\f",
      "a}=d'h,~et|~[*r %jit`\u001d",
      "we\u0002i tJdirzi ~ecs=rV(t`CminuZ;h(n=<Loxs,osd~$hz\u0011^it ,`(c:Doe^V9 N \u0004i|n',ecqp\u0011i~j'O3&I\\oe(=6Is}uxn'kcj'I~T:u';q !u\u001d",
      "re(!i&_gzt+cw,_elpoRi<'(f'&sU;img/=_c\u0004r,upi,ah~;_i;o<iinn7t ani2Ni.N,sph{$i=~U$;h;d;\f",
      "\"\u001d",
      "um(o,sD,)-e'yum*\n",
      "\u0010t=i}Ioa(&(sNk.r ~u~,acjtVCtd$!'&lOyd(hi:Ltg=c`\n",
      "qbE(;r\"!<o:R~o$E$sE k=ioa,\\e'uoW'bj:b>o_by}u0:\u0007swt,Wa,dpasb\\:xF%u%&uYin\f",
      "%*_a.hg'ue snxyH\n",
      "\u001ad9h:Rsr(o,2lro=mnn(Ui&@ zmx~n,b$nqh^iinn\u000b",
      "(ov\u001d",
      "x {u%:\f",
      "ajdywo`,v'hr\u0016CXr,v0r[~k(ti<@n.tiDauKq'Pm_iu';n !nDu gu'sGn.\\`srydpbz~Eiih &=o:X~sf&\u0007$Ru|=a}dn,l'T;^:5=2\u000b",
      "sa=McIob`ixyE,;o'`0m~S;lq\f",
      "\u001a2N2#=i'h,b$f=z_irs'uiO=\u001d",
      "} qn(sDlziiea,`}sonYCtN*o/h:In f&(6B as,hd\u0006!)'r6\u0011'x''rv''!&cu\u0011Xm(hC?Rto=yl ye$+$fvzU\u0000vu'hnr_w It*:\f",
      "o.u,ne{easx}H.it0miO:^os(h=6Ic.{a'W`,lsnv\u0011\u0003_t(!<rt\u001d",
      "w `k\u0013 !izs,fdmhpbziX:|nnb(\u0010\\rl/&''Nme1aiIabpkg5;\u0000vk=hnk:O|kk&'Y_c`o`'yaylfyRS.u\n",
      "x~hc;Yizbih=h:Ond\u0002n;t\u000b",
      "ozt|i baj+Tv[:;b=oiit7krig bmfse tkxhl=;P(r'\u0010t=gjYv fc(7btazxsa,UqjzoY?;sCn:c:Rualj'sNy{=m''5e$~iv\u0010\u0010n'p!:k:Xi \u0002in6\\akt+as U%fyRR'okiuCih_'(c==\u000b",
      "o\"n t ,m$jq;ECtc'u+&{\u001d",
      "u g!i6Xd\u0004^ybti`vd=~^.o'\n",
      "7!o)x|shb,$n1h\u0011=ke*!'&tH~\n",
      "m&!sBc.rxu o `'u;P*;h*siU:R~u(j:sE a:,bsy~$^hl_(ys%!,+:Som$g0;Y \u0004r,oud,lsTlB>z+\u000b",
      "xii=Xa(t'sx axc+eiuk~|B';o:r'&\u0010\\;-Xgi;_f`datc_u$hjrT+b'&v cxD| xgi;_f`datcK,ls=t\u001d",
      ".;o=!&*}\u001d",
      "Wylqi=\u000b",
      "oixmcpm,ls{uH$hd=mii:T5\n",
      "Xgi;_f`datcOa$i=tT&7k=lich7wy|gi&@ {t,ot,c$h=z\u0011=;fiuCjcIz }mi&B .txblyi$h=KPiss/o0ki^;h|&&sDea1Oj b,kbr;a(;o=g'wNx\n",
      "\n"
     ]
    }
   ],
   "source": [
    "for e in list_EncodedBlocksTransposed:\n",
    "    list_DecodedStrings = decode_single_byte_xor(e)\n",
    "    str_BestEngScore, val_BestEngScore, dict_AllScores = score_english_strings(list_DecodedStrings)\n",
    "    print(str_BestEngScore, '\\n)"
   ]
  },
  {
   "cell_type": "code",
   "execution_count": null,
   "metadata": {},
   "outputs": [],
   "source": []
  }
 ],
 "metadata": {
  "hide_input": false,
  "kernelspec": {
   "display_name": "Python 3",
   "language": "python",
   "name": "python3"
  },
  "language_info": {
   "codemirror_mode": {
    "name": "ipython",
    "version": 3
   },
   "file_extension": ".py",
   "mimetype": "text/x-python",
   "name": "python",
   "nbconvert_exporter": "python",
   "pygments_lexer": "ipython3",
   "version": "3.6.7"
  }
 },
 "nbformat": 4,
 "nbformat_minor": 2
}
